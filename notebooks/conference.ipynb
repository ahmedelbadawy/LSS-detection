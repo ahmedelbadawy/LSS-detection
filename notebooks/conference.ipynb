{
 "cells": [
  {
   "cell_type": "code",
   "execution_count": 30,
   "metadata": {},
   "outputs": [
    {
     "name": "stdout",
     "output_type": "stream",
     "text": [
      "[77.83569089 77.83569089 77.83569089] [53.42109526 53.42109526 53.42109526]\n"
     ]
    }
   ],
   "source": [
    "import torch\n",
    "from torchvision import datasets, transforms\n",
    "from torch.utils.data import DataLoader\n",
    "import os\n",
    "import numpy as np\n",
    "import cv2\n",
    "\n",
    "# Define the dataset and data loader\n",
    "images_path = '../datasets/yolo_train'\n",
    "image_list = []\n",
    "mean_sum = np.array([0., 0., 0.])\n",
    "std_sum = np.array([0., 0., 0.])\n",
    "n_images = len(os.listdir(images_path))\n",
    "for image in os.listdir(images_path):\n",
    "    img = cv2.imread(os.path.join(images_path, image))\n",
    "    img = cv2.cvtColor(img, cv2.COLOR_BGR2RGB)/255\n",
    "    # print(cv2.meanStdDev(img))\n",
    "    mean, std = cv2.meanStdDev(img)\n",
    "    mean_sum += np.squeeze(mean)\n",
    "    std_sum += np.squeeze(std)\n",
    "    \n",
    "print(mean_sum / (n_images), std_sum / n_images)\n",
    "\n",
    "# image_data = np.stack(image_list, axis=0)"
   ]
  },
  {
   "cell_type": "code",
   "execution_count": 25,
   "metadata": {},
   "outputs": [
    {
     "name": "stdout",
     "output_type": "stream",
     "text": [
      "(284, 260, 260, 3)\n"
     ]
    }
   ],
   "source": []
  },
  {
   "cell_type": "code",
   "execution_count": 26,
   "metadata": {},
   "outputs": [
    {
     "name": "stdout",
     "output_type": "stream",
     "text": [
      "[77.71223732 77.71223732 77.71223732] [58.54308289 58.54308289 58.54308289]\n"
     ]
    }
   ],
   "source": [
    "\n",
    "# print(image_list.shape)\n",
    "mean = np.mean(image_list, axis=(0, 1, 2))\n",
    "std = np.std(image_list, axis=(0, 1, 2))\n",
    "\n",
    "print(mean, std)"
   ]
  }
 ],
 "metadata": {
  "kernelspec": {
   "display_name": "Python 3",
   "language": "python",
   "name": "python3"
  },
  "language_info": {
   "codemirror_mode": {
    "name": "ipython",
    "version": 3
   },
   "file_extension": ".py",
   "mimetype": "text/x-python",
   "name": "python",
   "nbconvert_exporter": "python",
   "pygments_lexer": "ipython3",
   "version": "3.11.8"
  }
 },
 "nbformat": 4,
 "nbformat_minor": 2
}
