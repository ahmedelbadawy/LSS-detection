{
 "cells": [
  {
   "cell_type": "code",
   "execution_count": 1,
   "metadata": {},
   "outputs": [],
   "source": [
    "import shutil\n",
    "import os\n",
    "import pandas as pd\n",
    "from sklearn.model_selection import train_test_split"
   ]
  },
  {
   "cell_type": "code",
   "execution_count": 2,
   "metadata": {},
   "outputs": [],
   "source": [
    "def move_files_to_folder(list_of_files, destination_folder):\n",
    "    for f in list_of_files:\n",
    "        try:\n",
    "            if not os.path.exists(destination_folder):\n",
    "                os.makedirs(destination_folder) \n",
    "            shutil.copy2(f, destination_folder)\n",
    "        except:\n",
    "            print(f)\n",
    "            assert False"
   ]
  },
  {
   "cell_type": "code",
   "execution_count": 3,
   "metadata": {},
   "outputs": [],
   "source": [
    "file_name = [(x) for x in os.listdir('..\\\\datasets\\\\images')]\n",
    "images = [os.path.join('..\\\\datasets\\\\images', x) for x in file_name]\n",
    "annotations = [os.path.join('..\\\\datasets\\\\labels', x) for x in os.listdir('..\\\\datasets\\\\labels') if x.endswith(\".txt\")]\n",
    "file_name.sort()\n",
    "images.sort()\n",
    "annotations.sort()\n",
    "\n",
    "train_studies, test_studies, train_annotations, test_annotations = train_test_split(images, annotations, test_size = 0.2, random_state = 1)\n"
   ]
  },
  {
   "cell_type": "code",
   "execution_count": 5,
   "metadata": {},
   "outputs": [
    {
     "name": "stdout",
     "output_type": "stream",
     "text": [
      "284\n"
     ]
    }
   ],
   "source": [
    "print(len(train_studies))"
   ]
  },
  {
   "cell_type": "code",
   "execution_count": 6,
   "metadata": {},
   "outputs": [],
   "source": [
    "move_files_to_folder(train_studies, '../datasets/train/images' )\n",
    "move_files_to_folder(train_annotations, '../datasets/train/labels')\n",
    "# move_files_to_folder(val_studies, '../datasets/val/images')\n",
    "# move_files_to_folder(val_annotations, '../datasets/val/labels')\n",
    "move_files_to_folder(test_studies, '../datasets/test/images' )\n",
    "move_files_to_folder(test_annotations, '../datasets/test/labels')\n"
   ]
  }
 ],
 "metadata": {
  "kernelspec": {
   "display_name": "Python 3",
   "language": "python",
   "name": "python3"
  },
  "language_info": {
   "codemirror_mode": {
    "name": "ipython",
    "version": 3
   },
   "file_extension": ".py",
   "mimetype": "text/x-python",
   "name": "python",
   "nbconvert_exporter": "python",
   "pygments_lexer": "ipython3",
   "version": "3.11.8"
  }
 },
 "nbformat": 4,
 "nbformat_minor": 2
}
