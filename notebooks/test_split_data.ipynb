{
 "cells": [
  {
   "cell_type": "code",
   "execution_count": 9,
   "metadata": {},
   "outputs": [
    {
     "name": "stdout",
     "output_type": "stream",
     "text": [
      "{'PATIENT813103': {'0': 0, '1': 0, '2': 0, '3': 4}, 'PATIENT957695': {'0': 1, '1': 0, '2': 1, '3': 0}, 'PATIENT363030': {'0': 0, '1': 0, '2': 1, '3': 3}, 'PATIENT809540': {'0': 0, '1': 2, '2': 2, '3': 1}, 'PATIENT897638': {'0': 0, '1': 0, '2': 3, '3': 0}, 'PATIENT1882574': {'0': 1, '1': 1, '2': 2, '3': 1}, 'PATIENT484744': {'0': 0, '1': 0, '2': 1, '3': 3}, 'PATIENT1758859': {'0': 0, '1': 0, '2': 2, '3': 3}, 'PATIENT657573': {'0': 2, '1': 0, '2': 2, '3': 1}, 'PATIENT875329': {'0': 0, '1': 1, '2': 2, '3': 2}, 'PATIENT834176': {'0': 1, '1': 1, '2': 2, '3': 1}, 'PATIENT1499224': {'0': 1, '1': 0, '2': 2, '3': 2}, 'PATIENT624340': {'0': 2, '1': 0, '2': 2, '3': 1}, 'PATIENT190704': {'0': 2, '1': 0, '2': 1, '3': 0}, 'PATIENT1068298': {'0': 2, '1': 0, '2': 2, '3': 1}, 'PATIENT275341': {'0': 1, '1': 1, '2': 3, '3': 0}, 'PATIENT787443': {'0': 2, '1': 0, '2': 1, '3': 1}, 'PATIENT1589236': {'0': 2, '1': 0, '2': 2, '3': 0}, 'PATIENT636571': {'0': 0, '1': 0, '2': 1, '3': 1}, 'PATIENT1380121': {'0': 1, '1': 0, '2': 1, '3': 2}, 'PATIENT733048': {'0': 1, '1': 1, '2': 0, '3': 2}, 'PATIENT758559': {'0': 0, '1': 0, '2': 1, '3': 1}, 'PATIENT881336': {'0': 0, '1': 0, '2': 1, '3': 4}, 'PATIENT820927': {'0': 1, '1': 0, '2': 3, '3': 1}, 'PATIENT852711': {'0': 2, '1': 1, '2': 1, '3': 0}, 'PATIENT953530': {'0': 1, '1': 0, '2': 3, '3': 0}, 'PATIENT749917': {'0': 0, '1': 0, '2': 2, '3': 3}, 'PATIENT71049': {'0': 0, '1': 3, '2': 2, '3': 0}, 'PATIENT659743': {'0': 3, '1': 0, '2': 1, '3': 0}, 'PATIENT346270': {'0': 0, '1': 0, '2': 2, '3': 3}, 'PATIENT483178': {'0': 0, '1': 1, '2': 3, '3': 1}, 'PATIENT899191': {'0': 1, '1': 0, '2': 3, '3': 0}, 'PATIENT1103487': {'0': 0, '1': 1, '2': 1, '3': 1}, 'PATIENT257654': {'0': 1, '1': 0, '2': 2, '3': 1}, 'PATIENT674740': {'0': 2, '1': 2, '2': 1, '3': 0}, 'PATIENT1517819': {'0': 2, '1': 0, '2': 0, '3': 1}, 'PATIENT680268': {'0': 0, '1': 2, '2': 0, '3': 3}, 'PATIENT1853266': {'0': 2, '1': 0, '2': 1, '3': 0}, 'PATIENT259445': {'0': 0, '1': 0, '2': 3, '3': 1}, 'PATIENT1382929': {'0': 0, '1': 0, '2': 2, '3': 2}, 'PATIENT797274': {'0': 1, '1': 0, '2': 1, '3': 1}, 'PATIENT673618': {'0': 0, '1': 1, '2': 3, '3': 1}, 'PATIENT682110': {'0': 2, '1': 1, '2': 0, '3': 0}, 'PATIENT578344': {'0': 0, '1': 0, '2': 3, '3': 2}, 'PATIENT1738359': {'0': 1, '1': 1, '2': 0, '3': 2}, 'PATIENT596080': {'0': 2, '1': 0, '2': 2, '3': 1}, 'PATIENT516528': {'0': 0, '1': 0, '2': 5, '3': 0}, 'PATIENT954841': {'0': 1, '1': 1, '2': 3, '3': 0}, 'PATIENT593020': {'0': 3, '1': 1, '2': 0, '3': 1}, 'PATIENT800462': {'0': 1, '1': 1, '2': 2, '3': 0}, 'PATIENT1412880': {'0': 2, '1': 2, '2': 0, '3': 1}, 'PATIENT1845131': {'0': 2, '1': 0, '2': 0, '3': 2}, 'PATIENT614950': {'0': 3, '1': 0, '2': 2, '3': 0}, 'PATIENT1648649': {'0': 0, '1': 0, '2': 1, '3': 0}, 'PATIENT1791107': {'0': 0, '1': 1, '2': 4, '3': 0}, 'PATIENT1653957': {'0': 1, '1': 0, '2': 1, '3': 3}, 'PATIENT1508869': {'0': 1, '1': 0, '2': 1, '3': 2}, 'PATIENT844769': {'0': 3, '1': 0, '2': 2, '3': 0}, 'PATIENT960531': {'0': 0, '1': 1, '2': 1, '3': 1}, 'PATIENT1441457': {'0': 0, '1': 1, '2': 0, '3': 1}, 'PATIENT1377872': {'0': 0, '1': 1, '2': 1, '3': 1}, 'PATIENT1376694': {'0': 1, '1': 0, '2': 2, '3': 0}, 'PATIENT865639': {'0': 0, '1': 0, '2': 2, '3': 3}, 'PATIENT1368417': {'0': 1, '1': 0, '2': 2, '3': 1}, 'PATIENT1464627': {'0': 2, '1': 0, '2': 2, '3': 1}, 'PATIENT546144': {'0': 2, '1': 0, '2': 2, '3': 1}, 'PATIENT64348': {'0': 1, '1': 0, '2': 0, '3': 1}, 'PATIENT902501': {'0': 0, '1': 2, '2': 1, '3': 2}, 'PATIENT1736897': {'0': 1, '1': 2, '2': 1, '3': 1}, 'PATIENT716733': {'0': 1, '1': 0, '2': 1, '3': 1}, 'PATIENT689522': {'0': 1, '1': 1, '2': 2, '3': 1}, 'PATIENT823542': {'0': 1, '1': 0, '2': 2, '3': 1}, 'PATIENT474470': {'0': 2, '1': 1, '2': 1, '3': 0}, 'PATIENT1718935': {'0': 2, '1': 0, '2': 2, '3': 1}, 'PATIENT994827': {'0': 1, '1': 0, '2': 1, '3': 2}, 'PATIENT694785': {'0': 1, '1': 1, '2': 1, '3': 1}, 'PATIENT599387': {'0': 0, '1': 0, '2': 2, '3': 2}, 'PATIENT262899': {'0': 1, '1': 1, '2': 1, '3': 2}, 'PATIENT1423834': {'0': 1, '1': 1, '2': 2, '3': 0}, 'PATIENT857167': {'0': 2, '1': 0, '2': 1, '3': 0}, 'PATIENT1535730': {'0': 1, '1': 0, '2': 1, '3': 1}, 'PATIENT498340': {'0': 3, '1': 1, '2': 0, '3': 1}, 'PATIENT1401612': {'0': 0, '1': 0, '2': 2, '3': 3}, 'PATIENT935034': {'0': 1, '1': 0, '2': 3, '3': 1}, 'PATIENT2063059': {'0': 1, '1': 1, '2': 0, '3': 3}}\n",
      "85\n",
      "[84, 40, 131, 100]\n",
      "355\n"
     ]
    }
   ],
   "source": [
    "import shutil\n",
    "import os\n",
    "import pandas as pd\n",
    "from sklearn.model_selection import train_test_split\n",
    "\n",
    "file_name = [(x) for x in os.listdir('..\\\\datasets\\\\preprocessed_images')]\n",
    "images = [os.path.join('..\\\\datasets\\\\preprocessed_images', x) for x in file_name]\n",
    "annotations = [os.path.join('..\\\\datasets\\\\labels', x) for x in os.listdir('..\\\\datasets\\\\labels') if x.endswith(\".txt\")]\n",
    "\n",
    "file_name.sort()\n",
    "images.sort()\n",
    "annotations.sort()\n",
    "\n",
    "studies_list = [(x.split(os.sep)[-1].split(\"_\")[0]) for x in images]\n",
    "studies = list(set(studies_list))\n",
    "\n",
    "patients = dict()\n",
    "for study in studies:\n",
    "    patients[study] = {'0':0,'1':0,'2':0, '3':0}\n",
    "\n",
    "sum_labels = [0,0,0,0]\n",
    "\n",
    "\n",
    "for x in range(len(annotations)):\n",
    "    file = open(annotations[x], \"r\")\n",
    "    content = file.read().split(\" \")[0]\n",
    "    key = file_name[x].split(\"_\")[0]\n",
    "    patients[key][content] = patients[key][content] + 1\n",
    "    sum_labels[int(content)] = sum_labels[int(content)] + 1\n",
    "    \n",
    "\n",
    "print(patients)\n",
    "print(len(patients))\n",
    "print(sum_labels)\n",
    "print(sum(sum_labels))\n"
   ]
  },
  {
   "cell_type": "code",
   "execution_count": 10,
   "metadata": {},
   "outputs": [
    {
     "name": "stdout",
     "output_type": "stream",
     "text": [
      "67.2 16.8\n",
      "32.0 8.0\n",
      "104.80000000000001 26.200000000000003\n",
      "80.0 20.0\n"
     ]
    }
   ],
   "source": [
    "print(0.8 * 84, 0.2 * 84)\n",
    "\n",
    "print(0.8 * 40, 0.2 * 40)\n",
    "\n",
    "print(0.8 * 131, 0.2 * 131)\n",
    "\n",
    "print(0.8 * 100, 0.2 * 100)\n",
    "\n"
   ]
  },
  {
   "cell_type": "code",
   "execution_count": 11,
   "metadata": {},
   "outputs": [
    {
     "name": "stdout",
     "output_type": "stream",
     "text": [
      "71\n",
      "[17  8 26 20]\n",
      "['PATIENT875329', 'PATIENT1589236', 'PATIENT1377872', 'PATIENT733048', 'PATIENT546144', 'PATIENT190704', 'PATIENT813103', 'PATIENT1103487', 'PATIENT498340', 'PATIENT800462', 'PATIENT809540', 'PATIENT953530', 'PATIENT578344', 'PATIENT857167', 'PATIENT823542', 'PATIENT1718935', 'PATIENT346270']\n"
     ]
    }
   ],
   "source": [
    "import numpy as np\n",
    "import random\n",
    "\n",
    "def custom_test_split(patients, studies, split):\n",
    "    studies_test = []\n",
    "    max_sum = 0\n",
    "    max_sum_list = 0\n",
    "    max_studies_test = 0\n",
    "\n",
    "    for _ in range(1000):\n",
    "        sum_list = np.array([0,0,0,0])\n",
    "        studies_test = []\n",
    "        random.shuffle(studies)\n",
    "        for i in range(len(patients)):\n",
    "            sum_list = sum_list + np.array([patients[studies[i]]['0'], patients[studies[i]]['1'], patients[studies[i]]['2'], patients[studies[i]]['3']])\n",
    "            if (sum_list[0] > split[0] or sum_list[1] > split[1] or sum_list[2] > split[2] or sum_list[3] > split[3]):\n",
    "                sum_list = sum_list - np.array([patients[studies[i]]['0'], patients[studies[i]]['1'], patients[studies[i]]['2'], patients[studies[i]]['3']])\n",
    "            else:\n",
    "                studies_test.append(studies[i])\n",
    "        if sum(sum_list) > max_sum:\n",
    "            max_sum = sum(sum_list)\n",
    "            max_sum_list = sum_list\n",
    "            max_studies_test = studies_test\n",
    "    print(max_sum)\n",
    "    print(max_sum_list)\n",
    "    return max_studies_test\n",
    "    \n",
    "test_split = custom_test_split(patients, studies, [17,8,26,20])\n",
    "print(test_split)"
   ]
  },
  {
   "cell_type": "code",
   "execution_count": 12,
   "metadata": {},
   "outputs": [
    {
     "name": "stdout",
     "output_type": "stream",
     "text": [
      "68 17\n"
     ]
    }
   ],
   "source": [
    "train_split = set(studies).difference(set(test_split))\n",
    "print(len(train_split), len(test_split))\n",
    "\n",
    "train_imgs = []\n",
    "test_imgs = []\n",
    "train_ann = []\n",
    "test_ann = []\n",
    "\n",
    "for i in range(len(images)):\n",
    "    if images[i].split(os.sep)[-1].split(\"_\")[0] in train_split:\n",
    "        train_imgs.append(images[i])\n",
    "    if annotations[i].split(os.sep)[-1].split(\"_\")[0] in train_split:\n",
    "        train_ann.append(annotations[i])\n",
    "    if images[i].split(os.sep)[-1].split(\"_\")[0] in test_split:\n",
    "        test_imgs.append(images[i])\n",
    "    if annotations[i].split(os.sep)[-1].split(\"_\")[0] in test_split:\n",
    "        test_ann.append(annotations[i])\n",
    "\n"
   ]
  },
  {
   "cell_type": "code",
   "execution_count": 13,
   "metadata": {},
   "outputs": [],
   "source": [
    "def move_files_to_folder(list_of_files, destination_folder):\n",
    "    for f in list_of_files:\n",
    "        try:\n",
    "            if not os.path.exists(destination_folder):\n",
    "                os.makedirs(destination_folder) \n",
    "            shutil.copy2(f, destination_folder)\n",
    "        except:\n",
    "            print(f)\n",
    "            assert False\n",
    "\n",
    "move_files_to_folder(train_imgs, '../datasets/train/images' )\n",
    "move_files_to_folder(train_ann, '../datasets/train/labels')\n",
    "\n",
    "move_files_to_folder(test_imgs, '../datasets/test/images' )\n",
    "move_files_to_folder(test_ann, '../datasets/test/labels')"
   ]
  },
  {
   "cell_type": "markdown",
   "metadata": {},
   "source": [
    "Data Imbalance"
   ]
  },
  {
   "cell_type": "code",
   "execution_count": 2,
   "metadata": {},
   "outputs": [
    {
     "name": "stdout",
     "output_type": "stream",
     "text": [
      "{'PATIENT659743': {'0': 3, '1': 0, '2': 1, '3': 0}, 'PATIENT262899': {'0': 1, '1': 1, '2': 1, '3': 2}, 'PATIENT624340': {'0': 2, '1': 0, '2': 2, '3': 1}, 'PATIENT1376694': {'0': 1, '1': 0, '2': 2, '3': 0}, 'PATIENT1508869': {'0': 1, '1': 0, '2': 1, '3': 2}, 'PATIENT275341': {'0': 1, '1': 1, '2': 3, '3': 0}, 'PATIENT1882574': {'0': 1, '1': 1, '2': 2, '3': 1}, 'PATIENT1845131': {'0': 2, '1': 0, '2': 0, '3': 2}, 'PATIENT897638': {'0': 0, '1': 0, '2': 3, '3': 0}, 'PATIENT636571': {'0': 0, '1': 0, '2': 1, '3': 1}, 'PATIENT483178': {'0': 0, '1': 1, '2': 3, '3': 1}, 'PATIENT935034': {'0': 1, '1': 0, '2': 3, '3': 1}, 'PATIENT957695': {'0': 1, '1': 0, '2': 1, '3': 0}, 'PATIENT1791107': {'0': 0, '1': 1, '2': 4, '3': 0}, 'PATIENT865639': {'0': 0, '1': 0, '2': 2, '3': 3}, 'PATIENT994827': {'0': 1, '1': 0, '2': 1, '3': 2}, 'PATIENT71049': {'0': 0, '1': 3, '2': 2, '3': 0}, 'PATIENT1535730': {'0': 1, '1': 0, '2': 1, '3': 1}, 'PATIENT1401612': {'0': 0, '1': 0, '2': 2, '3': 3}, 'PATIENT1853266': {'0': 2, '1': 0, '2': 1, '3': 0}, 'PATIENT1412880': {'0': 2, '1': 2, '2': 0, '3': 1}, 'PATIENT674740': {'0': 2, '1': 2, '2': 1, '3': 0}, 'PATIENT787443': {'0': 2, '1': 0, '2': 1, '3': 1}, 'PATIENT960531': {'0': 0, '1': 1, '2': 1, '3': 1}, 'PATIENT954841': {'0': 1, '1': 1, '2': 3, '3': 0}, 'PATIENT1382929': {'0': 0, '1': 0, '2': 2, '3': 2}, 'PATIENT1758859': {'0': 0, '1': 0, '2': 2, '3': 3}, 'PATIENT797274': {'0': 1, '1': 0, '2': 1, '3': 1}, 'PATIENT1653957': {'0': 1, '1': 0, '2': 1, '3': 3}, 'PATIENT673618': {'0': 0, '1': 1, '2': 3, '3': 1}, 'PATIENT593020': {'0': 3, '1': 1, '2': 0, '3': 1}, 'PATIENT614950': {'0': 3, '1': 0, '2': 2, '3': 0}, 'PATIENT2063059': {'0': 1, '1': 1, '2': 0, '3': 3}, 'PATIENT680268': {'0': 0, '1': 2, '2': 0, '3': 3}, 'PATIENT689522': {'0': 1, '1': 1, '2': 2, '3': 1}, 'PATIENT844769': {'0': 3, '1': 0, '2': 2, '3': 0}, 'PATIENT363030': {'0': 0, '1': 0, '2': 1, '3': 3}, 'PATIENT881336': {'0': 0, '1': 0, '2': 1, '3': 4}, 'PATIENT899191': {'0': 1, '1': 0, '2': 3, '3': 0}, 'PATIENT1441457': {'0': 0, '1': 1, '2': 0, '3': 1}, 'PATIENT902501': {'0': 0, '1': 2, '2': 1, '3': 2}, 'PATIENT834176': {'0': 1, '1': 1, '2': 2, '3': 1}, 'PATIENT820927': {'0': 1, '1': 0, '2': 3, '3': 1}, 'PATIENT1499224': {'0': 1, '1': 0, '2': 2, '3': 2}, 'PATIENT1423834': {'0': 1, '1': 1, '2': 2, '3': 0}, 'PATIENT484744': {'0': 0, '1': 0, '2': 1, '3': 3}, 'PATIENT657573': {'0': 2, '1': 0, '2': 2, '3': 1}, 'PATIENT1517819': {'0': 2, '1': 0, '2': 0, '3': 1}, 'PATIENT1648649': {'0': 0, '1': 0, '2': 1, '3': 0}, 'PATIENT1380121': {'0': 1, '1': 0, '2': 1, '3': 2}, 'PATIENT516528': {'0': 0, '1': 0, '2': 5, '3': 0}, 'PATIENT599387': {'0': 0, '1': 0, '2': 2, '3': 2}, 'PATIENT694785': {'0': 1, '1': 1, '2': 1, '3': 1}, 'PATIENT1738359': {'0': 1, '1': 1, '2': 0, '3': 2}, 'PATIENT1736897': {'0': 1, '1': 2, '2': 1, '3': 1}, 'PATIENT1068298': {'0': 2, '1': 0, '2': 2, '3': 1}, 'PATIENT682110': {'0': 2, '1': 1, '2': 0, '3': 0}, 'PATIENT749917': {'0': 0, '1': 0, '2': 2, '3': 3}, 'PATIENT758559': {'0': 0, '1': 0, '2': 1, '3': 1}, 'PATIENT596080': {'0': 2, '1': 0, '2': 2, '3': 1}, 'PATIENT259445': {'0': 0, '1': 0, '2': 3, '3': 1}, 'PATIENT852711': {'0': 2, '1': 1, '2': 1, '3': 0}, 'PATIENT1464627': {'0': 2, '1': 0, '2': 2, '3': 1}, 'PATIENT716733': {'0': 1, '1': 0, '2': 1, '3': 1}, 'PATIENT1368417': {'0': 1, '1': 0, '2': 2, '3': 1}, 'PATIENT257654': {'0': 1, '1': 0, '2': 2, '3': 1}, 'PATIENT474470': {'0': 2, '1': 1, '2': 1, '3': 0}, 'PATIENT64348': {'0': 1, '1': 0, '2': 0, '3': 1}}\n",
      "68\n",
      "[67, 32, 105, 80]\n",
      "284\n"
     ]
    }
   ],
   "source": [
    "import shutil\n",
    "import os\n",
    "import pandas as pd\n",
    "from sklearn.model_selection import train_test_split\n",
    "\n",
    "file_name = [(x) for x in os.listdir('..\\\\datasets\\\\train\\\\images')]\n",
    "images = [os.path.join('..\\\\datasets\\\\train\\\\images', x) for x in file_name]\n",
    "annotations = [os.path.join('..\\\\datasets\\\\train\\\\labels', x) for x in os.listdir('..\\\\datasets\\\\train\\\\labels') if x.endswith(\".txt\")]\n",
    "\n",
    "file_name.sort()\n",
    "images.sort()\n",
    "annotations.sort()\n",
    "\n",
    "studies_list = [(x.split(os.sep)[-1].split(\"_\")[0]) for x in images]\n",
    "studies = list(set(studies_list))\n",
    "\n",
    "patients = dict()\n",
    "for study in studies:\n",
    "    patients[study] = {'0':0,'1':0,'2':0, '3':0}\n",
    "\n",
    "sum_labels = [0,0,0,0]\n",
    "\n",
    "files = {'0':[],'1':[],'2':[], '3':[]}\n",
    "for x in range(len(annotations)):\n",
    "    file = open(annotations[x], \"r\")\n",
    "    content = file.read().split(\" \")[0]\n",
    "    key = file_name[x].split(\"_\")[0]\n",
    "    files[content].append((key + \".png\"))\n",
    "    patients[key][content] = patients[key][content] + 1\n",
    "    sum_labels[int(content)] = sum_labels[int(content)] + 1\n",
    "    \n",
    "\n",
    "print(patients)\n",
    "print(len(patients))\n",
    "print(sum_labels)\n",
    "print(sum(sum_labels))\n"
   ]
  },
  {
   "cell_type": "code",
   "execution_count": 4,
   "metadata": {},
   "outputs": [
    {
     "name": "stdout",
     "output_type": "stream",
     "text": [
      "['PATIENT614950.png', 'PATIENT1653957.png', 'PATIENT844769.png', 'PATIENT257654.png', 'PATIENT1845131.png', 'PATIENT682110.png', 'PATIENT1653957.png', 'PATIENT844769.png', 'PATIENT257654.png', 'PATIENT624340.png', 'PATIENT614950.png', 'PATIENT659743.png', 'PATIENT1736897.png', 'PATIENT1423834.png', 'PATIENT682110.png', 'PATIENT1738359.png', 'PATIENT659743.png', 'PATIENT624340.png', 'PATIENT596080.png', 'PATIENT1464627.png', 'PATIENT834176.png', 'PATIENT1376694.png', 'PATIENT899191.png', 'PATIENT674740.png', 'PATIENT1380121.png', 'PATIENT682110.png', 'PATIENT1068298.png', 'PATIENT844769.png', 'PATIENT614950.png', 'PATIENT262899.png', 'PATIENT682110.png', 'PATIENT1068298.png', 'PATIENT657573.png', 'PATIENT852711.png', 'PATIENT1845131.png', 'PATIENT624340.png', 'PATIENT935034.png', 'PATIENT694785.png', 'PATIENT1845131.png', 'PATIENT257654.png', 'PATIENT1517819.png', 'PATIENT1738359.png', 'PATIENT852711.png', 'PATIENT1853266.png', 'PATIENT834176.png', 'PATIENT1068298.png', 'PATIENT1380121.png', 'PATIENT1517819.png', 'PATIENT1368417.png', 'PATIENT694785.png', 'PATIENT682110.png', 'PATIENT657573.png', 'PATIENT694785.png', 'PATIENT787443.png', 'PATIENT844769.png', 'PATIENT275341.png', 'PATIENT674740.png', 'PATIENT262899.png', 'PATIENT1517819.png', 'PATIENT1068298.png', 'PATIENT716733.png', 'PATIENT954841.png', 'PATIENT614950.png', 'PATIENT659743.png', 'PATIENT64348.png', 'PATIENT957695.png', 'PATIENT1412880.png', 'PATIENT1412880.png', 'PATIENT1508869.png', 'PATIENT834176.png', 'PATIENT657573.png', 'PATIENT1412880.png', 'PATIENT852711.png', 'PATIENT262899.png', 'PATIENT674740.png', 'PATIENT852711.png', 'PATIENT797274.png', 'PATIENT1499224.png', 'PATIENT1508869.png', 'PATIENT624340.png', 'PATIENT624340.png', 'PATIENT954841.png', 'PATIENT1517819.png', 'PATIENT624340.png', 'PATIENT1068298.png', 'PATIENT659743.png', 'PATIENT1412880.png', 'PATIENT1736897.png', 'PATIENT659743.png', 'PATIENT624340.png', 'PATIENT834176.png', 'PATIENT682110.png', 'PATIENT596080.png', 'PATIENT1380121.png', 'PATIENT64348.png', 'PATIENT1517819.png', 'PATIENT1412880.png', 'PATIENT844769.png', 'PATIENT852711.png', 'PATIENT1853266.png', 'PATIENT682110.png', 'PATIENT1853266.png', 'PATIENT262899.png', 'PATIENT899191.png', 'PATIENT787443.png', 'PATIENT689522.png', 'PATIENT1845131.png', 'PATIENT1517819.png', 'PATIENT614950.png', 'PATIENT596080.png', 'PATIENT1517819.png', 'PATIENT1845131.png', 'PATIENT899191.png', 'PATIENT682110.png', 'PATIENT844769.png', 'PATIENT257654.png', 'PATIENT1068298.png', 'PATIENT899191.png', 'PATIENT1508869.png', 'PATIENT275341.png']\n"
     ]
    }
   ],
   "source": [
    "import numpy as np\n",
    "import pandas as pd\n",
    "from sklearn.utils import resample\n",
    "# Importing the dataset\n",
    "# Read dataset\n",
    "\n",
    "new_0 = resample(files['0'], \n",
    "                                 replace=True,     \n",
    "                                 n_samples=120)\n",
    "def move_files_to_folder(list_of_files, destination_folder):\n",
    "    for f in list_of_files:\n",
    "        try:\n",
    "            if not os.path.exists(destination_folder):\n",
    "                os.makedirs(destination_folder) \n",
    "            shutil.copy2(f\"prep\", destination_folder)\n",
    "        except:\n",
    "            print(f)\n",
    "            assert False"
   ]
  },
  {
   "cell_type": "markdown",
   "metadata": {},
   "source": [
    "# Creating CSV file for Classification training"
   ]
  },
  {
   "cell_type": "code",
   "execution_count": 9,
   "metadata": {},
   "outputs": [],
   "source": [
    "import shutil\n",
    "import os\n",
    "import pandas as pd\n",
    "from sklearn.model_selection import train_test_split\n",
    "\n",
    "train_images = [os.path.join('..\\\\datasets\\\\train\\\\images', x) for x in os.listdir('..\\\\datasets\\\\train\\\\images') if x.endswith(\".png\")]\n",
    "train_annotations = [os.path.join('..\\\\datasets\\\\train\\\\labels', x) for x in os.listdir('..\\\\datasets\\\\train\\\\labels') if x.endswith(\".txt\")]\n",
    "\n",
    "test_images = [os.path.join('..\\\\datasets\\\\test\\\\images', x) for x in os.listdir('..\\\\datasets\\\\test\\\\images') if x.endswith(\".png\")]\n",
    "test_annotations = [os.path.join('..\\\\datasets\\\\test\\\\labels', x) for x in os.listdir('..\\\\datasets\\\\test\\\\labels') if x.endswith(\".txt\")]\n",
    "\n",
    "images = train_images + test_images\n",
    "annotations = train_annotations + test_annotations\n",
    "\n",
    "images.sort()\n",
    "annotations.sort()\n",
    "\n",
    "\n",
    "\n",
    "dataset = pd.DataFrame(columns=['ID', 'Path', 'Label', 'Split'])\n",
    "\n",
    "for i in range(len(images)):\n",
    "\n",
    "    dataset.loc[i,'ID'] = images[i].split(os.sep)[-1].split('.')[0]\n",
    "    dataset.loc[i,'Path'] = images[i]\n",
    "    file = open(annotations[i], \"r\")\n",
    "    dataset.loc[i,'Label'] = file.read().split(\" \")[0]\n",
    "    dataset.loc[i,'Split'] = images[i].split(os.sep)[-3]\n",
    "dataset.to_csv('dataset.csv', index = 0)\n"
   ]
  },
  {
   "cell_type": "code",
   "execution_count": 93,
   "metadata": {},
   "outputs": [
    {
     "name": "stdout",
     "output_type": "stream",
     "text": [
      "67 0.014925373134328358\n",
      "32 0.03125\n",
      "105 0.009523809523809525\n",
      "80 0.0125\n"
     ]
    }
   ],
   "source": [
    "targets = []\n",
    "weights = []\n",
    "train_images = []\n",
    "for key in files.keys():\n",
    "    print(len(files[key]), 1/len(files[key]))\n",
    "    key_weight = 1/len(files[key])\n",
    "    for image in files[key]:\n",
    "        weights.append(key_weight)\n",
    "        targets.append(int(key))\n",
    "        train_images.append(image)"
   ]
  },
  {
   "cell_type": "code",
   "execution_count": 97,
   "metadata": {},
   "outputs": [
    {
     "name": "stdout",
     "output_type": "stream",
     "text": [
      "a\n",
      "tensor([153, 254, 136,  56,  63, 259,  75, 261, 185,  76,  63,  84,  79,  93,\n",
      "         52, 273, 116, 272,  19, 199, 273,  25,  57, 185, 238, 204, 269,  14,\n",
      "        127, 242,  73,  93,  34, 210,   6,  86,  88, 230, 154, 239,  85,  93,\n",
      "        126,  69,  83, 149,  48,  67, 113, 274,  70, 278, 266, 105,  92,  92,\n",
      "        236,  41,  89, 276, 218,  69,  76, 145,  78, 210,  77, 143, 222, 160,\n",
      "         34,  76,  80, 138, 271, 204,  60,  94, 130, 184,  61, 275, 258,  94,\n",
      "         71,  20, 183,  61, 205,  24, 211, 220,  93, 191,  93,  90,  31,  62,\n",
      "         16, 192, 110, 249,  32,  78, 205, 250,  76, 116,  69, 251, 165,  44,\n",
      "        209, 235, 278,  53,   9,  66, 235, 282, 262,  25,   5,  22,  40, 244,\n",
      "         85,  82,  31, 241, 135,  51, 115,  32, 227,  84, 177, 248, 190, 269,\n",
      "        215, 186,  81,  70, 215,  87, 167,  82, 109,  68, 212,  34,  94,  98,\n",
      "        242, 109, 196,  94, 258,  94,  51,  74, 164,  73, 243, 274,  96,  17,\n",
      "        180,  18, 100, 152,  66,  56,  91,  14,  76, 277,  74, 158,  43, 122,\n",
      "          3, 104,  85,  81, 222, 234, 238,  71,  21, 247, 114, 161, 265,  79,\n",
      "         86,  94,  86, 281,  76,  93, 145,  50, 274, 119,  64, 202, 117, 106,\n",
      "        220, 211, 281,  97,  39,  66,  94, 226, 128,  86,  32,  82, 110, 168,\n",
      "         62, 179, 258,  97,  50,  80, 216,  68, 200, 244,  90, 238, 240,  80,\n",
      "         69, 246, 260,  77,  42, 159,  43,  96, 132,  76,  96,  91, 279, 193,\n",
      "         81,  74, 165,   8, 120, 178, 228, 162, 187,  49, 206,  10, 169, 198,\n",
      "         75, 169,  43, 271, 238,  92,  78, 159,  78,  61,  37,  53,  87,  85,\n",
      "        191, 167, 206, 192], dtype=torch.int32)\n"
     ]
    }
   ],
   "source": [
    "from torch.utils.data import Dataset\n",
    "from sklearn.utils import shuffle\n",
    "from torch.utils.data import DataLoader\n",
    "import torch.utils.data\n",
    "import numpy as np\n",
    "\n",
    "weights = torch.DoubleTensor(weights)\n",
    "train = torch.IntTensor(np.array(range(284)))\n",
    "targets = torch.IntTensor(targets)\n",
    "\n",
    "train_dataset = torch.utils.data.TensorDataset(train, targets)\n",
    "\n",
    "sampler = torch.utils.data.sampler.WeightedRandomSampler(weights, len(weights), replacement=True)\n",
    "trainloader = DataLoader(train_dataset, batch_size=284, sampler=sampler,\n",
    "                         shuffle=False,\n",
    "                         num_workers=0, pin_memory=False)\n",
    "\n",
    "for batch in trainloader:\n",
    "    print(\"a\")\n",
    "    print(batch[0])\n"
   ]
  }
 ],
 "metadata": {
  "kernelspec": {
   "display_name": "Python 3",
   "language": "python",
   "name": "python3"
  },
  "language_info": {
   "codemirror_mode": {
    "name": "ipython",
    "version": 3
   },
   "file_extension": ".py",
   "mimetype": "text/x-python",
   "name": "python",
   "nbconvert_exporter": "python",
   "pygments_lexer": "ipython3",
   "version": "3.11.8"
  }
 },
 "nbformat": 4,
 "nbformat_minor": 2
}
